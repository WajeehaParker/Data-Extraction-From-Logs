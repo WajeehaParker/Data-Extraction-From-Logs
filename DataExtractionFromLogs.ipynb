{
 "cells": [
  {
   "cell_type": "code",
   "execution_count": 141,
   "metadata": {},
   "outputs": [],
   "source": [
    "import pandas as pd\n",
    "from matplotlib import pyplot as plt\n",
    "from sklearn.cluster import KMeans\n",
    "import warnings\n",
    "import os\n",
    "import webbrowser\n",
    "\n",
    "warnings.filterwarnings('ignore')"
   ]
  },
  {
   "cell_type": "code",
   "execution_count": 142,
   "metadata": {},
   "outputs": [
    {
     "data": {
      "text/html": [
       "<div>\n",
       "<style scoped>\n",
       "    .dataframe tbody tr th:only-of-type {\n",
       "        vertical-align: middle;\n",
       "    }\n",
       "\n",
       "    .dataframe tbody tr th {\n",
       "        vertical-align: top;\n",
       "    }\n",
       "\n",
       "    .dataframe thead th {\n",
       "        text-align: right;\n",
       "    }\n",
       "</style>\n",
       "<table border=\"1\" class=\"dataframe\">\n",
       "  <thead>\n",
       "    <tr style=\"text-align: right;\">\n",
       "      <th></th>\n",
       "      <th>cs-method</th>\n",
       "      <th>cs-uri-stem</th>\n",
       "      <th>s-port</th>\n",
       "      <th>sc-status</th>\n",
       "      <th>sc-bytes</th>\n",
       "      <th>cs-bytes</th>\n",
       "      <th>time-taken</th>\n",
       "      <th>year</th>\n",
       "      <th>month</th>\n",
       "      <th>day</th>\n",
       "      <th>hour</th>\n",
       "      <th>minute</th>\n",
       "    </tr>\n",
       "  </thead>\n",
       "  <tbody>\n",
       "    <tr>\n",
       "      <th>0</th>\n",
       "      <td>GET</td>\n",
       "      <td>/api/values</td>\n",
       "      <td>8080</td>\n",
       "      <td>200</td>\n",
       "      <td>278</td>\n",
       "      <td>299</td>\n",
       "      <td>1167</td>\n",
       "      <td>2023</td>\n",
       "      <td>11</td>\n",
       "      <td>9</td>\n",
       "      <td>18</td>\n",
       "      <td>4</td>\n",
       "    </tr>\n",
       "    <tr>\n",
       "      <th>1</th>\n",
       "      <td>GET</td>\n",
       "      <td>/api/values</td>\n",
       "      <td>8080</td>\n",
       "      <td>200</td>\n",
       "      <td>278</td>\n",
       "      <td>299</td>\n",
       "      <td>1</td>\n",
       "      <td>2023</td>\n",
       "      <td>11</td>\n",
       "      <td>9</td>\n",
       "      <td>18</td>\n",
       "      <td>4</td>\n",
       "    </tr>\n",
       "    <tr>\n",
       "      <th>2</th>\n",
       "      <td>GET</td>\n",
       "      <td>/api/values</td>\n",
       "      <td>8080</td>\n",
       "      <td>500</td>\n",
       "      <td>4796</td>\n",
       "      <td>299</td>\n",
       "      <td>212</td>\n",
       "      <td>2023</td>\n",
       "      <td>11</td>\n",
       "      <td>22</td>\n",
       "      <td>7</td>\n",
       "      <td>28</td>\n",
       "    </tr>\n",
       "    <tr>\n",
       "      <th>3</th>\n",
       "      <td>GET</td>\n",
       "      <td>/api/values</td>\n",
       "      <td>8080</td>\n",
       "      <td>200</td>\n",
       "      <td>278</td>\n",
       "      <td>299</td>\n",
       "      <td>12737</td>\n",
       "      <td>2023</td>\n",
       "      <td>11</td>\n",
       "      <td>22</td>\n",
       "      <td>7</td>\n",
       "      <td>30</td>\n",
       "    </tr>\n",
       "    <tr>\n",
       "      <th>4</th>\n",
       "      <td>GET</td>\n",
       "      <td>/api/values/1</td>\n",
       "      <td>8080</td>\n",
       "      <td>200</td>\n",
       "      <td>265</td>\n",
       "      <td>301</td>\n",
       "      <td>66</td>\n",
       "      <td>2023</td>\n",
       "      <td>11</td>\n",
       "      <td>22</td>\n",
       "      <td>7</td>\n",
       "      <td>30</td>\n",
       "    </tr>\n",
       "  </tbody>\n",
       "</table>\n",
       "</div>"
      ],
      "text/plain": [
       "  cs-method    cs-uri-stem  s-port  sc-status  sc-bytes  cs-bytes  time-taken  \\\n",
       "0       GET    /api/values    8080        200       278       299        1167   \n",
       "1       GET    /api/values    8080        200       278       299           1   \n",
       "2       GET    /api/values    8080        500      4796       299         212   \n",
       "3       GET    /api/values    8080        200       278       299       12737   \n",
       "4       GET  /api/values/1    8080        200       265       301          66   \n",
       "\n",
       "   year  month  day  hour  minute  \n",
       "0  2023     11    9    18       4  \n",
       "1  2023     11    9    18       4  \n",
       "2  2023     11   22     7      28  \n",
       "3  2023     11   22     7      30  \n",
       "4  2023     11   22     7      30  "
      ]
     },
     "execution_count": 142,
     "metadata": {},
     "output_type": "execute_result"
    }
   ],
   "source": [
    "logs = pd.read_csv('./API Logs.log', delimiter=' ', header=0)\n",
    "df = logs[['cs-method', 'cs-uri-stem', 's-port', 'sc-status', 'sc-bytes', 'cs-bytes', 'time-taken']]\n",
    "df['year'] = pd.to_datetime(logs['date']).dt.year\n",
    "df['month'] = pd.to_datetime(logs['date']).dt.month\n",
    "df['day'] = pd.to_datetime(logs['date']).dt.day\n",
    "df['hour'] = pd.to_datetime(logs['time']).dt.hour\n",
    "df['minute'] = pd.to_datetime(logs['time']).dt.minute\n",
    "df.head()"
   ]
  },
  {
   "cell_type": "code",
   "execution_count": 143,
   "metadata": {},
   "outputs": [
    {
     "name": "stdout",
     "output_type": "stream",
     "text": [
      "Status:  [200 500 204 405 400 415]\n"
     ]
    }
   ],
   "source": [
    "unique_sc_status = df['sc-status'].unique()\n",
    "#unique_sc_status = unique_sc_status[unique_sc_status != 200]\n",
    "print(\"Status: \",unique_sc_status)"
   ]
  },
  {
   "cell_type": "code",
   "execution_count": 144,
   "metadata": {},
   "outputs": [
    {
     "name": "stdout",
     "output_type": "stream",
     "text": [
      "405 :  (1, 12)\n",
      "400 :  (3, 12)\n",
      "500 :  (1027, 12)\n"
     ]
    }
   ],
   "source": [
    "data = df[df['time-taken'] > 1000]\n",
    "unique_data = data['sc-status'].unique()\n",
    "unique_data = unique_data[unique_data!=200]\n",
    "for status in unique_data:\n",
    "    filtered_data = data[data['sc-status'] == status]\n",
    "    print(status,\": \",filtered_data.shape)"
   ]
  },
  {
   "cell_type": "code",
   "execution_count": 165,
   "metadata": {},
   "outputs": [],
   "source": [
    "image_dir = 'plots'\n",
    "os.makedirs(image_dir, exist_ok=True)\n",
    "saved_img = []\n",
    "min_no_of_errors = 25\n",
    "time_taken = 1000\n",
    "for status in unique_sc_status:\n",
    "    filtered_df = df[df['sc-status'] == status]\n",
    "    df_encoded = pd.get_dummies(filtered_df)\n",
    "    if(filtered_df[filtered_df['time-taken'] > time_taken].shape[0]>min_no_of_errors):\n",
    "        kmeans = KMeans(n_clusters=5, random_state=1)\n",
    "        kmeans.fit(df_encoded)\n",
    "        labels = kmeans.labels_\n",
    "        plt.figure(figsize=(5, 5))\n",
    "        plt.scatter(df_encoded['hour'], df_encoded['time-taken'], c=labels)\n",
    "        plt.xlabel('hour')\n",
    "        plt.ylabel('time taken')\n",
    "        plt.title(\"Hourly status for Error[\"+str(status)+\"]\")\n",
    "        image_path = os.path.join(image_dir, f\"hourly_status_{status}.png\")\n",
    "        plt.savefig(image_path)\n",
    "        saved_img.append(image_path)\n",
    "        plt.close()\n",
    "        #plt.show()\n",
    "\n",
    "        hours = filtered_df['hour'].value_counts()[filtered_df['hour'].value_counts() > min_no_of_errors].index.tolist()\n",
    "        hours.sort()\n",
    "        for hour in hours:\n",
    "            df_hourly = df_encoded[df_encoded['hour'] == hour]\n",
    "            if(df_hourly.shape[0]>min_no_of_errors):\n",
    "                df_hourly['hour_minute'] = df_hourly['hour'].astype(str) + '.' + df_hourly['minute'].astype(str)\n",
    "                df_hourly['hour_minute'] = df_hourly['hour_minute'].astype(float)\n",
    "                kmeans = KMeans(n_clusters=5, random_state=1)\n",
    "                kmeans.fit(df_hourly)\n",
    "                labels = kmeans.labels_\n",
    "                plt.figure(figsize=(5, 5))\n",
    "                plt.scatter(df_hourly['hour_minute'], df_hourly['time-taken'], c=labels)\n",
    "                plt.xlabel('hour_minute')\n",
    "                plt.ylabel('time taken')\n",
    "                plt.title(\"Per minute status for Error[\"+str(status)+\"] at Hour[\"+str(hour)+\"]\" )\n",
    "                image_path = os.path.join(image_dir, f\"per_minute_status_{status}_hour_{hour}.png\")\n",
    "                plt.savefig(image_path)\n",
    "                saved_img.append(image_path)\n",
    "                plt.close()\n",
    "                #plt.show()"
   ]
  },
  {
   "cell_type": "code",
   "execution_count": 169,
   "metadata": {},
   "outputs": [
    {
     "data": {
      "text/plain": [
       "True"
      ]
     },
     "execution_count": 169,
     "metadata": {},
     "output_type": "execute_result"
    }
   ],
   "source": [
    "html_content = \"\"\"\n",
    "<!DOCTYPE html>\n",
    "<html>\n",
    "<head>\n",
    "    <title>Plots</title>\n",
    "</head>\n",
    "<body>\n",
    "\"\"\"\n",
    "\n",
    "for img_path in saved_img:\n",
    "    # Add a line break before and after each image starting with 'plots\\\\hourly_status'\n",
    "    if 'hourly_status' in img_path:\n",
    "        html_content += \"<br>\"\n",
    "    html_content += f\"<img src=\\\"{img_path}\\\" width=\\\"400\\\">\"\n",
    "    if 'hourly_status' in img_path:\n",
    "        html_content += \"<br>\"\n",
    "\n",
    "html_content += \"\"\"\n",
    "</body>\n",
    "</html>\n",
    "\"\"\"\n",
    "\n",
    "# Save the HTML content to a file\n",
    "html_file_path = \"plots.html\"\n",
    "with open(html_file_path, 'w') as html_file:\n",
    "    html_file.write(html_content)\n",
    "\n",
    "# Open the HTML file in the default web browser\n",
    "webbrowser.open('file://' + os.path.abspath(html_file_path))\n"
   ]
  }
 ],
 "metadata": {
  "kernelspec": {
   "display_name": "Python 3",
   "language": "python",
   "name": "python3"
  },
  "language_info": {
   "codemirror_mode": {
    "name": "ipython",
    "version": 3
   },
   "file_extension": ".py",
   "mimetype": "text/x-python",
   "name": "python",
   "nbconvert_exporter": "python",
   "pygments_lexer": "ipython3",
   "version": "3.11.5"
  }
 },
 "nbformat": 4,
 "nbformat_minor": 2
}
