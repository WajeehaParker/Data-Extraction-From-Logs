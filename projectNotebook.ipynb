{
 "cells": [
  {
   "cell_type": "code",
   "execution_count": 1,
   "metadata": {},
   "outputs": [],
   "source": [
    "import pandas as pd\n",
    "import Helpers"
   ]
  },
  {
   "cell_type": "code",
   "execution_count": 2,
   "metadata": {},
   "outputs": [],
   "source": [
    "df = Helpers.process_log_file(\"./API Logs.log\")"
   ]
  },
  {
   "cell_type": "code",
   "execution_count": 3,
   "metadata": {},
   "outputs": [
    {
     "data": {
      "text/html": [
       "<div>\n",
       "<style scoped>\n",
       "    .dataframe tbody tr th:only-of-type {\n",
       "        vertical-align: middle;\n",
       "    }\n",
       "\n",
       "    .dataframe tbody tr th {\n",
       "        vertical-align: top;\n",
       "    }\n",
       "\n",
       "    .dataframe thead th {\n",
       "        text-align: right;\n",
       "    }\n",
       "</style>\n",
       "<table border=\"1\" class=\"dataframe\">\n",
       "  <thead>\n",
       "    <tr style=\"text-align: right;\">\n",
       "      <th></th>\n",
       "      <th>date</th>\n",
       "      <th>time</th>\n",
       "      <th>sSitename</th>\n",
       "      <th>sComputername</th>\n",
       "      <th>sIp</th>\n",
       "      <th>csMethod</th>\n",
       "      <th>csUriStem</th>\n",
       "      <th>csUriQuery</th>\n",
       "      <th>sPort</th>\n",
       "      <th>csUsername</th>\n",
       "      <th>...</th>\n",
       "      <th>csUserAgent</th>\n",
       "      <th>csCookie</th>\n",
       "      <th>csReferer</th>\n",
       "      <th>csHost</th>\n",
       "      <th>scStatus</th>\n",
       "      <th>scSubstatus</th>\n",
       "      <th>scWin32Status</th>\n",
       "      <th>scBytes</th>\n",
       "      <th>csBytes</th>\n",
       "      <th>timeTaken</th>\n",
       "    </tr>\n",
       "  </thead>\n",
       "  <tbody>\n",
       "    <tr>\n",
       "      <th>0</th>\n",
       "      <td>2023-11-09</td>\n",
       "      <td>18:04:18</td>\n",
       "      <td>W3SVC9</td>\n",
       "      <td>WAJEEHA1</td>\n",
       "      <td>127.0.0.1</td>\n",
       "      <td>GET</td>\n",
       "      <td>/api/values</td>\n",
       "      <td>-</td>\n",
       "      <td>8080</td>\n",
       "      <td>-</td>\n",
       "      <td>...</td>\n",
       "      <td>PostmanRuntime/7.34.0</td>\n",
       "      <td>-</td>\n",
       "      <td>-</td>\n",
       "      <td>127.0.0.1:8080</td>\n",
       "      <td>200</td>\n",
       "      <td>0</td>\n",
       "      <td>0</td>\n",
       "      <td>278</td>\n",
       "      <td>299</td>\n",
       "      <td>1167</td>\n",
       "    </tr>\n",
       "    <tr>\n",
       "      <th>1</th>\n",
       "      <td>2023-11-09</td>\n",
       "      <td>18:04:37</td>\n",
       "      <td>W3SVC9</td>\n",
       "      <td>WAJEEHA1</td>\n",
       "      <td>127.0.0.1</td>\n",
       "      <td>GET</td>\n",
       "      <td>/api/values</td>\n",
       "      <td>-</td>\n",
       "      <td>8080</td>\n",
       "      <td>-</td>\n",
       "      <td>...</td>\n",
       "      <td>PostmanRuntime/7.34.0</td>\n",
       "      <td>-</td>\n",
       "      <td>-</td>\n",
       "      <td>127.0.0.1:8080</td>\n",
       "      <td>200</td>\n",
       "      <td>0</td>\n",
       "      <td>0</td>\n",
       "      <td>278</td>\n",
       "      <td>299</td>\n",
       "      <td>1</td>\n",
       "    </tr>\n",
       "  </tbody>\n",
       "</table>\n",
       "<p>2 rows × 22 columns</p>\n",
       "</div>"
      ],
      "text/plain": [
       "         date      time sSitename sComputername        sIp csMethod  \\\n",
       "0  2023-11-09  18:04:18    W3SVC9      WAJEEHA1  127.0.0.1      GET   \n",
       "1  2023-11-09  18:04:37    W3SVC9      WAJEEHA1  127.0.0.1      GET   \n",
       "\n",
       "     csUriStem csUriQuery sPort csUsername  ...            csUserAgent  \\\n",
       "0  /api/values          -  8080          -  ...  PostmanRuntime/7.34.0   \n",
       "1  /api/values          -  8080          -  ...  PostmanRuntime/7.34.0   \n",
       "\n",
       "  csCookie csReferer          csHost scStatus scSubstatus scWin32Status  \\\n",
       "0        -         -  127.0.0.1:8080      200           0             0   \n",
       "1        -         -  127.0.0.1:8080      200           0             0   \n",
       "\n",
       "  scBytes csBytes timeTaken  \n",
       "0     278     299      1167  \n",
       "1     278     299         1  \n",
       "\n",
       "[2 rows x 22 columns]"
      ]
     },
     "execution_count": 3,
     "metadata": {},
     "output_type": "execute_result"
    }
   ],
   "source": [
    "df"
   ]
  }
 ],
 "metadata": {
  "kernelspec": {
   "display_name": "Python 3",
   "language": "python",
   "name": "python3"
  },
  "language_info": {
   "codemirror_mode": {
    "name": "ipython",
    "version": 3
   },
   "file_extension": ".py",
   "mimetype": "text/x-python",
   "name": "python",
   "nbconvert_exporter": "python",
   "pygments_lexer": "ipython3",
   "version": "3.11.5"
  },
  "orig_nbformat": 4,
  "vscode": {
   "interpreter": {
    "hash": "8a9681e39844f652d5b4b9546f20ca4205a8167fe914e7d0f37c2626a073f228"
   }
  }
 },
 "nbformat": 4,
 "nbformat_minor": 2
}
